{
 "cells": [
  {
   "cell_type": "markdown",
   "id": "50b04a2a",
   "metadata": {},
   "source": [
    "# Title"
   ]
  },
  {
   "cell_type": "markdown",
   "id": "1dadc6bf",
   "metadata": {},
   "source": [
    "<table>\n",
    "  <tr>\n",
    "    <th>Company</th>\n",
    "    <th>Contact</th>\n",
    "    <th>Country</th>\n",
    "  </tr>\n",
    "  <tr>\n",
    "    <td>Alfreds Futterkiste</td>\n",
    "    <td>Maria Anders</td>\n",
    "    <td>Germany</td>\n",
    "  </tr>\n",
    "  <tr>\n",
    "    <td>Centro comercial Moctezuma</td>\n",
    "    <td>Francisco Chang</td>\n",
    "    <td>Mexico</td>\n",
    "  </tr>\n",
    "</table> "
   ]
  },
  {
   "cell_type": "code",
   "execution_count": null,
   "id": "b73740d3",
   "metadata": {},
   "outputs": [],
   "source": [
    "import os"
   ]
  },
  {
   "cell_type": "markdown",
   "id": "ac27431c",
   "metadata": {},
   "source": [
    "## Chapter one\n",
    "\n",
    "Equations $phi = g(z)$, html tags, and code should not be included."
   ]
  },
  {
   "cell_type": "code",
   "execution_count": null,
   "id": "34f19feb",
   "metadata": {},
   "outputs": [],
   "source": [
    "os.getcwd()"
   ]
  },
  {
   "cell_type": "markdown",
   "id": "a6932c29",
   "metadata": {},
   "source": [
    "$$sigma = f(x)$$\n",
    "\n",
    "<img src=\"https://upload.wikimedia.org/wikipedia/commons/thumb/c/c3/Python-logo-notext.svg/150px-Python-logo-notext.svg.png\" alt=\"\">\n",
    "\n",
    "<p style=\"font-size: 12; font-style: italic;\">should not be included</p>"
   ]
  },
  {
   "cell_type": "markdown",
   "id": "16fb7fb6",
   "metadata": {},
   "source": [
    "So this file has sixteen words."
   ]
  },
  {
   "cell_type": "markdown",
   "id": "933619e0",
   "metadata": {},
   "source": []
  },
  {
   "cell_type": "markdown",
   "id": "7dd14ca5",
   "metadata": {},
   "source": [
    "## References\n",
    "\n",
    "The counter should also drop everything after refs.\n",
    "\n",
    "I'm also including an empyt MD cell.\n"
   ]
  }
 ],
 "metadata": {
  "kernelspec": {
   "display_name": "main",
   "language": "python",
   "name": "python3"
  },
  "language_info": {
   "codemirror_mode": {
    "name": "ipython",
    "version": 3
   },
   "file_extension": ".py",
   "mimetype": "text/x-python",
   "name": "python",
   "nbconvert_exporter": "python",
   "pygments_lexer": "ipython3",
   "version": "3.12.0"
  }
 },
 "nbformat": 4,
 "nbformat_minor": 5
}
